{
 "cells": [
  {
   "cell_type": "markdown",
   "id": "minor-windows",
   "metadata": {},
   "source": [
    "# Экспоненциальные интеграторы\n",
    "\n",
    "Демонстрация поведения экспоненциальных интегаторов на примере нелинейных задач."
   ]
  },
  {
   "cell_type": "code",
   "execution_count": 1,
   "id": "considerable-punishment",
   "metadata": {},
   "outputs": [],
   "source": [
    "import numpy as np\n",
    "import scipy.optimize as sopt\n",
    "import scipy.linalg as slinalg"
   ]
  },
  {
   "cell_type": "code",
   "execution_count": 2,
   "id": "fitting-drama",
   "metadata": {},
   "outputs": [],
   "source": [
    "def phi_1(x):\n",
    "    if np.abs(x) < 1e-8:\n",
    "        return 1.0 + x / 2.0\n",
    "    else:\n",
    "        return (np.exp(x) - 1.0)/ x"
   ]
  },
  {
   "cell_type": "code",
   "execution_count": 3,
   "id": "interracial-sheet",
   "metadata": {},
   "outputs": [],
   "source": [
    "a = 1.0\n",
    "b = 1.0\n",
    "\n",
    "def f(x):\n",
    "    #return 1.0 - np.exp(- (x - 1.0)**2 / (2.0 * a))\n",
    "    return np.cos(0.5 * b * np.pi * x) / a\n",
    "    #return b - a * x\n",
    "\n",
    "def der_f(x):\n",
    "    #return (x - 1) * np.exp(- (x - 1.0)**2 / (2.0 * a))\n",
    "    return -(0.5 * b * np.pi / a) * np.sin(0.5 * b * np.pi * x)\n",
    "    #return -a"
   ]
  },
  {
   "cell_type": "code",
   "execution_count": 4,
   "id": "divided-quality",
   "metadata": {},
   "outputs": [],
   "source": [
    "x_0 = 0.0\n",
    "T = 20.0\n",
    "N = 10\n",
    "dt = T / N\n",
    "\n",
    "time = np.linspace(0.0, T, N + 1)"
   ]
  },
  {
   "cell_type": "markdown",
   "id": "moral-island",
   "metadata": {},
   "source": [
    "### Референсное решение"
   ]
  },
  {
   "cell_type": "code",
   "execution_count": 5,
   "id": "funky-international",
   "metadata": {},
   "outputs": [],
   "source": [
    "N_ref = 1000\n",
    "dt_ref = T / N_ref\n",
    "\n",
    "time_ref = np.linspace(0.0, T, N_ref + 1)"
   ]
  },
  {
   "cell_type": "code",
   "execution_count": 6,
   "id": "identical-johnston",
   "metadata": {},
   "outputs": [],
   "source": [
    "reference = [x_0]\n",
    "\n",
    "for step in range(N_ref):\n",
    "    prev_x = reference[-1]\n",
    "    \n",
    "    res = lambda x : x - prev_x - 0.5 * dt_ref * (f(x) + f(prev_x))\n",
    "    der_res = lambda x : 1 - 0.5 * dt_ref * der_f(x)\n",
    "    reference.append(sopt.newton(res, prev_x, der_res))"
   ]
  },
  {
   "cell_type": "code",
   "execution_count": 7,
   "id": "integral-flesh",
   "metadata": {},
   "outputs": [],
   "source": [
    "reference = np.array(reference)"
   ]
  },
  {
   "cell_type": "markdown",
   "id": "unregulated-chocolate",
   "metadata": {},
   "source": [
    "### Явный метод Эйлера"
   ]
  },
  {
   "cell_type": "code",
   "execution_count": 8,
   "id": "unmeasured-guyana",
   "metadata": {},
   "outputs": [],
   "source": [
    "explicit_euler = [x_0]\n",
    "\n",
    "for step in range(N):\n",
    "    prev_x = explicit_euler[-1]\n",
    "    \n",
    "    explicit_euler.append(prev_x + dt * f(prev_x))"
   ]
  },
  {
   "cell_type": "code",
   "execution_count": 9,
   "id": "academic-thailand",
   "metadata": {},
   "outputs": [],
   "source": [
    "explicit_euler = np.array(explicit_euler)"
   ]
  },
  {
   "cell_type": "markdown",
   "id": "closing-secretary",
   "metadata": {},
   "source": [
    "### Неявный метод Эйлера"
   ]
  },
  {
   "cell_type": "code",
   "execution_count": 10,
   "id": "honest-miller",
   "metadata": {},
   "outputs": [],
   "source": [
    "implicit_euler = [x_0]\n",
    "\n",
    "for step in range(N):\n",
    "    prev_x = implicit_euler[-1]\n",
    "    \n",
    "    res = lambda x : x - prev_x - dt * f(x)\n",
    "    der_res = lambda x : 1 - dt * der_f(x)\n",
    "    implicit_euler.append(sopt.newton(res, prev_x, der_res))"
   ]
  },
  {
   "cell_type": "code",
   "execution_count": 11,
   "id": "nonprofit-antarctica",
   "metadata": {},
   "outputs": [],
   "source": [
    "implicit_euler = np.array(implicit_euler)"
   ]
  },
  {
   "cell_type": "markdown",
   "id": "regulated-chocolate",
   "metadata": {},
   "source": [
    "### Метод трапеций"
   ]
  },
  {
   "cell_type": "code",
   "execution_count": 12,
   "id": "manual-barcelona",
   "metadata": {},
   "outputs": [],
   "source": [
    "trapezoid = [x_0]\n",
    "\n",
    "for step in range(N):\n",
    "    prev_x = trapezoid[-1]\n",
    "    \n",
    "    res = lambda x : x - prev_x - 0.5 * dt * (f(x) + f(prev_x))\n",
    "    der_res = lambda x : 1 - 0.5 * dt * der_f(x)\n",
    "    trapezoid.append(sopt.newton(res, prev_x, der_res))"
   ]
  },
  {
   "cell_type": "code",
   "execution_count": 13,
   "id": "academic-greenland",
   "metadata": {},
   "outputs": [],
   "source": [
    "trapezoid = np.array(trapezoid)"
   ]
  },
  {
   "cell_type": "markdown",
   "id": "southern-spokesman",
   "metadata": {},
   "source": [
    "### Явный ETDRK1\n",
    "\n",
    "$$\n",
    "\\mathbf{x}^{n+1} = \\mathbf{x}^n + \\left( \\exp(\\Delta t \\cdot F) - I \\right) F^{-1} \\cdot f(\\mathbf{x}^n) \n",
    "$$"
   ]
  },
  {
   "cell_type": "code",
   "execution_count": 14,
   "id": "awful-burlington",
   "metadata": {},
   "outputs": [],
   "source": [
    "explicit_ETDRK1 = [x_0]\n",
    "\n",
    "for step in range(N):\n",
    "    prev_x = explicit_ETDRK1[-1]\n",
    "    F = der_f(prev_x)\n",
    "    M = phi_1(F * dt)\n",
    "    explicit_ETDRK1.append(prev_x + dt * M * f(prev_x))"
   ]
  },
  {
   "cell_type": "code",
   "execution_count": 15,
   "id": "adaptive-martin",
   "metadata": {},
   "outputs": [],
   "source": [
    "explicit_ETDRK1 = np.array(explicit_ETDRK1)"
   ]
  },
  {
   "cell_type": "markdown",
   "id": "furnished-dryer",
   "metadata": {},
   "source": [
    "### Неявный ETDRK1\n",
    "\n",
    "$$\n",
    "\\mathbf{x}^{n+1} = \\mathbf{x}^n + \\left( I - \\exp(- \\Delta t \\cdot F) \\right) F^{-1} \\cdot f(\\mathbf{x}^{n+1})\n",
    "$$"
   ]
  },
  {
   "cell_type": "code",
   "execution_count": 16,
   "id": "educational-looking",
   "metadata": {},
   "outputs": [],
   "source": [
    "implicit_ETDRK1 = [x_0]\n",
    "\n",
    "for step in range(N):\n",
    "    prev_x = implicit_ETDRK1[-1]\n",
    "    F = der_f(prev_x)\n",
    "    M = phi_1(- F * dt)\n",
    "    \n",
    "    res = lambda x : x - prev_x - M * dt * f(x)\n",
    "    der_res = lambda x : 1 - M * dt * der_f(x)\n",
    "    implicit_ETDRK1.append(sopt.newton(res, prev_x, der_res))"
   ]
  },
  {
   "cell_type": "code",
   "execution_count": 17,
   "id": "italic-trunk",
   "metadata": {},
   "outputs": [],
   "source": [
    "implicit_ETDRK1 = np.array(implicit_ETDRK1)"
   ]
  },
  {
   "cell_type": "markdown",
   "id": "answering-lying",
   "metadata": {},
   "source": [
    "### Взвешенный метод Эйлера"
   ]
  },
  {
   "cell_type": "code",
   "execution_count": 18,
   "id": "disturbed-shore",
   "metadata": {},
   "outputs": [],
   "source": [
    "def weight(x):\n",
    "    if np.abs(x) < 1e-8:\n",
    "        return 0.5 - x / 12.0\n",
    "    else:\n",
    "        return 1 / x - 1.0 / (np.exp(x) - 1.0)"
   ]
  },
  {
   "cell_type": "code",
   "execution_count": 19,
   "id": "tracked-quarter",
   "metadata": {},
   "outputs": [],
   "source": [
    "weighted_euler = [x_0]\n",
    "\n",
    "for step in range(N):\n",
    "    prev_x = weighted_euler[-1]\n",
    "    M = weight(F * dt)\n",
    "    \n",
    "    res = lambda x : x - prev_x - dt * (M * f(x) + (1.0 - M) * f(prev_x))\n",
    "    der_res = lambda x : 1 - M * dt * der_f(x)\n",
    "    weighted_euler.append(sopt.newton(res, prev_x, der_res))"
   ]
  },
  {
   "cell_type": "code",
   "execution_count": 20,
   "id": "pretty-sweet",
   "metadata": {},
   "outputs": [],
   "source": [
    "weighted_euler = np.array(weighted_euler)"
   ]
  },
  {
   "cell_type": "markdown",
   "id": "clean-nigeria",
   "metadata": {},
   "source": [
    "### Модифицированный метод Ньютона"
   ]
  },
  {
   "cell_type": "code",
   "execution_count": 21,
   "id": "collectible-advertiser",
   "metadata": {},
   "outputs": [],
   "source": [
    "modified_newton = [x_0]\n",
    "\n",
    "for step in range(N):\n",
    "    prev_x = modified_newton[-1]\n",
    "    M = weight(F * dt)\n",
    "    \n",
    "    res = lambda x : x - prev_x - dt * f(x)\n",
    "    der_res = lambda x : 1 - M * dt * der_f(x)\n",
    "    modified_newton.append(sopt.newton(res, prev_x, der_res))"
   ]
  },
  {
   "cell_type": "code",
   "execution_count": 22,
   "id": "compressed-fault",
   "metadata": {},
   "outputs": [],
   "source": [
    "modified_newton = np.array(modified_newton)"
   ]
  },
  {
   "cell_type": "markdown",
   "id": "cathedral-wright",
   "metadata": {},
   "source": [
    "### Графики"
   ]
  },
  {
   "cell_type": "code",
   "execution_count": 23,
   "id": "supreme-cricket",
   "metadata": {},
   "outputs": [],
   "source": [
    "import matplotlib\n",
    "import matplotlib.pyplot as plt\n",
    "\n",
    "font = {'family' : 'Liberation Sans',\n",
    "        'weight' : 'normal',\n",
    "        'size'   : 30}\n",
    "\n",
    "matplotlib.rc('font', **font)"
   ]
  },
  {
   "cell_type": "code",
   "execution_count": 24,
   "id": "casual-charge",
   "metadata": {},
   "outputs": [
    {
     "data": {
      "image/png": "[encoded data removed]",
      "text/plain": [
       "<Figure size 1224x576 with 1 Axes>"
      ]
     },
     "metadata": {
      "needs_background": "light"
     },
     "output_type": "display_data"
    }
   ],
   "source": [
    "fig, ax = plt.subplots()\n",
    "\n",
    "fig.set_figheight(8)\n",
    "fig.set_figwidth(17)\n",
    "ax.grid(color='#000000', alpha=0.15, linestyle='-', linewidth=1, which='major')\n",
    "ax.grid(color='#000000', alpha=0.1, linestyle='-', linewidth=0.5, which='minor')\n",
    "\n",
    "ax.set_xlabel(\"$t$\")\n",
    "ax.set_ylabel(\"$x(t)$\")\n",
    "\n",
    "ax.plot(time_ref, reference, label='Референсное решение')\n",
    "#ax.plot(time, explicit_euler, label='Явный метод Эйлера')\n",
    "#ax.plot(time, implicit_euler, label='Неявный метод Эйлера')\n",
    "#ax.plot(time, trapezoid, label='Метод трапеций')\n",
    "#ax.plot(time, explicit_ETDRK1, label='Явный ETDRK1')\n",
    "#ax.plot(time, implicit_ETDRK1, label='Неявный ETDRK1')\n",
    "ax.plot(time, modified_newton, label='модифицированный метод Эйлера')\n",
    "ax.plot(time, weighted_euler, label='Взвешенный метод Эйлера')\n",
    "\n",
    "ax.legend(loc='lower right')\n",
    "plt.show();"
   ]
  },
  {
   "cell_type": "markdown",
   "id": "blind-refund",
   "metadata": {},
   "source": [
    "### Сохранение"
   ]
  },
  {
   "cell_type": "code",
   "execution_count": 25,
   "id": "lesser-cruise",
   "metadata": {},
   "outputs": [],
   "source": [
    "import pandas as pd"
   ]
  },
  {
   "cell_type": "code",
   "execution_count": 26,
   "id": "continued-brighton",
   "metadata": {},
   "outputs": [],
   "source": [
    "reference_df = pd.DataFrame()\n",
    "reference_df['time'] = time_ref\n",
    "reference_df['reference'] = reference"
   ]
  },
  {
   "cell_type": "code",
   "execution_count": 27,
   "id": "olive-studio",
   "metadata": {},
   "outputs": [],
   "source": [
    "tests_df = pd.DataFrame()\n",
    "tests_df['time'] = time\n",
    "tests_df['explicit_euler'] = explicit_euler\n",
    "tests_df['implicit_euler'] = implicit_euler\n",
    "tests_df['trapezoid'] = trapezoid\n",
    "tests_df['explicit_ETDRK1'] = explicit_ETDRK1\n",
    "tests_df['implicit_ETDRK1'] = implicit_ETDRK1\n",
    "tests_df['weighted_euler'] = weighted_euler\n",
    "tests_df['modified_newton'] = modified_newton"
   ]
  },
  {
   "cell_type": "code",
   "execution_count": 28,
   "id": "exact-listing",
   "metadata": {},
   "outputs": [],
   "source": [
    "path = \"../../data/exponential_integrators/\""
   ]
  },
  {
   "cell_type": "code",
   "execution_count": 29,
   "id": "injured-swaziland",
   "metadata": {},
   "outputs": [],
   "source": [
    "reference_df.to_csv(path + 'reference.csv', sep='\\t', index=False)\n",
    "tests_df.to_csv(path + 'tests.csv', sep='\\t', index=False)"
   ]
  },
  {
   "cell_type": "code",
   "execution_count": null,
   "id": "rapid-vampire",
   "metadata": {},
   "outputs": [],
   "source": []
  }
 ],
 "metadata": {
  "kernelspec": {
   "display_name": "Python 3",
   "language": "python",
   "name": "python3"
  },
  "language_info": {
   "codemirror_mode": {
    "name": "ipython",
    "version": 3
   },
   "file_extension": ".py",
   "mimetype": "text/x-python",
   "name": "python",
   "nbconvert_exporter": "python",
   "pygments_lexer": "ipython3",
   "version": "3.9.2"
  }
 },
 "nbformat": 4,
 "nbformat_minor": 5
}
