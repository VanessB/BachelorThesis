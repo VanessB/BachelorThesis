{
 "cells": [
  {
   "cell_type": "markdown",
   "id": "confident-bunch",
   "metadata": {},
   "source": [
    "# Линейная жёсткость\n",
    "\n",
    "Демонстрационные примеры, взятые из книги *Lambert J. D.* Numerical Methods for Ordinary Differential Systems: The Initial Value Problem (с 213, 217)."
   ]
  },
  {
   "cell_type": "code",
   "execution_count": 1,
   "id": "moved-night",
   "metadata": {},
   "outputs": [],
   "source": [
    "import numpy as np\n",
    "import scipy.integrate as sint"
   ]
  },
  {
   "cell_type": "code",
   "execution_count": 2,
   "id": "harmful-bobby",
   "metadata": {},
   "outputs": [],
   "source": [
    "def linear_system(A, phi, t, x):\n",
    "    return A @ x + phi(t)"
   ]
  },
  {
   "cell_type": "code",
   "execution_count": 3,
   "id": "physical-usage",
   "metadata": {},
   "outputs": [],
   "source": [
    "# Первая система.\n",
    "A_1 = np.array([[-2.0, 1.0],\n",
    "                [1.0, -2.0]])\n",
    "phi_1 = lambda t : np.array([2 * np.sin(t), 2.0 * (np.cos(t) - np.sin(t))])\n",
    "f_1 = lambda t, x : linear_system(A_1, phi_1, t, x)\n",
    "\n",
    "# Вторая система.\n",
    "A_2 = np.array([[-2.0, 1.0],\n",
    "                [998.0, -999.0]])\n",
    "phi_2 = lambda t : np.array([2 * np.sin(t), 999.0 * (np.cos(t) - np.sin(t))])\n",
    "f_2 = lambda t, x : linear_system(A_2, phi_2, t, x)\n",
    "\n",
    "# Третья система.\n",
    "# !!! phi(t) приведена к сопоставимому с СЗ временному масштабу !!!\n",
    "A_3 = np.array([[-2.0, 1.0],\n",
    "                [-1.999, 0.999]])\n",
    "#phi_3 = lambda t : np.array([2 * np.sin(t), -0.999 * (np.cos(t) - np.sin(t))])                  # ИЗ КНИГИ.\n",
    "phi_3 = lambda t : np.array([2 * np.sin(t), -0.999 * (np.cos(t / 1000.0) - np.sin(t / 1000.0))]) # ИЗМЕНЕНО.\n",
    "f_3 = lambda t, x : linear_system(A_3, phi_3, t, x)\n",
    "\n",
    "# Четвёртая система.\n",
    "A_4 = A_2 / 1000.0\n",
    "phi_4 = lambda t : phi_2(t / 1000.0) / 1000.0\n",
    "f_4 = lambda t, x : linear_system(A_4, phi_4, t, x)"
   ]
  },
  {
   "cell_type": "code",
   "execution_count": 4,
   "id": "dominican-eagle",
   "metadata": {},
   "outputs": [],
   "source": [
    "def matrix_report(A):\n",
    "    eigenvalues, eigenvectors = np.linalg.eig(A)\n",
    "    cond = np.linalg.cond(A)\n",
    "    vectors_cond = np.linalg.cond(eigenvectors)\n",
    "    \n",
    "    stiffness_ratio = np.abs(eigenvalues[np.real(eigenvalues).argmin()]) / \\\n",
    "        np.abs(eigenvalues[np.real(eigenvalues).argmax()])\n",
    "    \n",
    "    print(\"Собственные числа:\\t\\t\\t\\t\", end='')\n",
    "    print(eigenvalues)\n",
    "    print(\"Степень жёсткости:\\t\\t\\t\\t%.3e\" % stiffness_ratio)\n",
    "    print(\"Число обуcловленности:\\t\\t\\t\\t%.3e\" % cond)\n",
    "    print(\"Число обуcловленности матрицы векторов:\\t\\t%.3e\" % vectors_cond)"
   ]
  },
  {
   "cell_type": "markdown",
   "id": "finite-increase",
   "metadata": {},
   "source": [
    "### Система 1"
   ]
  },
  {
   "cell_type": "code",
   "execution_count": 5,
   "id": "organizational-promise",
   "metadata": {},
   "outputs": [],
   "source": [
    "x_0 = np.array([0.0, 1.0])\n",
    "t_0 = 0.0\n",
    "T = 10.0"
   ]
  },
  {
   "cell_type": "code",
   "execution_count": 6,
   "id": "continental-bracket",
   "metadata": {},
   "outputs": [
    {
     "name": "stdout",
     "output_type": "stream",
     "text": [
      "Число итераций: 25\n"
     ]
    }
   ],
   "source": [
    "solver = sint.RK45(f_1, t_0, x_0, t_bound=T)\n",
    "\n",
    "n_iters = 0\n",
    "while solver.status == 'running':\n",
    "    solver.step()\n",
    "    n_iters += 1\n",
    "    \n",
    "print(\"Число итераций: %d\" % n_iters)"
   ]
  },
  {
   "cell_type": "code",
   "execution_count": 7,
   "id": "entitled-locking",
   "metadata": {},
   "outputs": [
    {
     "name": "stdout",
     "output_type": "stream",
     "text": [
      "Собственные числа:\t\t\t\t[-1. -3.]\n",
      "Степень жёсткости:\t\t\t\t3.000e+00\n",
      "Число обуcловленности:\t\t\t\t3.000e+00\n",
      "Число обуcловленности матрицы векторов:\t\t1.000e+00\n"
     ]
    }
   ],
   "source": [
    "matrix_report(A_1)"
   ]
  },
  {
   "cell_type": "markdown",
   "id": "virtual-norway",
   "metadata": {},
   "source": [
    "### Система 2"
   ]
  },
  {
   "cell_type": "code",
   "execution_count": 8,
   "id": "republican-steel",
   "metadata": {},
   "outputs": [],
   "source": [
    "x_0 = np.array([0.0, 1.0])\n",
    "t_0 = 0.0\n",
    "T = 10.0"
   ]
  },
  {
   "cell_type": "code",
   "execution_count": 9,
   "id": "hollywood-playlist",
   "metadata": {},
   "outputs": [
    {
     "name": "stdout",
     "output_type": "stream",
     "text": [
      "Число итераций: 3020\n"
     ]
    }
   ],
   "source": [
    "solver = sint.RK45(f_2, t_0, x_0, t_bound=T)\n",
    "\n",
    "n_iters = 0\n",
    "while solver.status == 'running':\n",
    "    solver.step()\n",
    "    n_iters += 1\n",
    "    \n",
    "print(\"Число итераций: %d\" % n_iters)"
   ]
  },
  {
   "cell_type": "code",
   "execution_count": 10,
   "id": "unusual-medicare",
   "metadata": {},
   "outputs": [
    {
     "name": "stdout",
     "output_type": "stream",
     "text": [
      "Собственные числа:\t\t\t\t[   -1. -1000.]\n",
      "Степень жёсткости:\t\t\t\t1.000e+03\n",
      "Число обуcловленности:\t\t\t\t1.994e+03\n",
      "Число обуcловленности матрицы векторов:\t\t2.411e+00\n"
     ]
    }
   ],
   "source": [
    "matrix_report(A_2)"
   ]
  },
  {
   "cell_type": "markdown",
   "id": "sporting-table",
   "metadata": {},
   "source": [
    "### Система 3"
   ]
  },
  {
   "cell_type": "code",
   "execution_count": 11,
   "id": "waiting-saturday",
   "metadata": {},
   "outputs": [],
   "source": [
    "x_0 = np.array([0.0, 1.0])\n",
    "t_0 = 0.0\n",
    "T = 10000.0"
   ]
  },
  {
   "cell_type": "code",
   "execution_count": 12,
   "id": "israeli-grammar",
   "metadata": {},
   "outputs": [
    {
     "name": "stdout",
     "output_type": "stream",
     "text": [
      "Число итераций: 3978\n"
     ]
    }
   ],
   "source": [
    "solver = sint.RK45(f_3, t_0, x_0, t_bound=T)\n",
    "\n",
    "n_iters = 0\n",
    "while solver.status == 'running':\n",
    "    solver.step()\n",
    "    n_iters += 1\n",
    "    \n",
    "print(\"Число итераций: %d\" % n_iters)"
   ]
  },
  {
   "cell_type": "code",
   "execution_count": 13,
   "id": "encouraging-portable",
   "metadata": {},
   "outputs": [
    {
     "name": "stdout",
     "output_type": "stream",
     "text": [
      "Собственные числа:\t\t\t\t[-1.e+00 -1.e-03]\n",
      "Степень жёсткости:\t\t\t\t1.000e+03\n",
      "Число обуcловленности:\t\t\t\t9.994e+03\n",
      "Число обуcловленности матрицы векторов:\t\t6.166e+00\n"
     ]
    }
   ],
   "source": [
    "matrix_report(A_3)"
   ]
  },
  {
   "cell_type": "markdown",
   "id": "moving-radius",
   "metadata": {},
   "source": [
    "### Система 4"
   ]
  },
  {
   "cell_type": "code",
   "execution_count": 14,
   "id": "colonial-forum",
   "metadata": {},
   "outputs": [],
   "source": [
    "x_0 = np.array([0.0, 1.0])\n",
    "t_0 = 0.0\n",
    "T = 10000.0"
   ]
  },
  {
   "cell_type": "code",
   "execution_count": 15,
   "id": "modern-crisis",
   "metadata": {},
   "outputs": [
    {
     "name": "stdout",
     "output_type": "stream",
     "text": [
      "Число итераций: 3021\n"
     ]
    }
   ],
   "source": [
    "solver = sint.RK45(f_4, t_0, x_0, t_bound=T)\n",
    "\n",
    "n_iters = 0\n",
    "while solver.status == 'running':\n",
    "    solver.step()\n",
    "    n_iters += 1\n",
    "    \n",
    "print(\"Число итераций: %d\" % n_iters)"
   ]
  },
  {
   "cell_type": "code",
   "execution_count": 16,
   "id": "capable-visit",
   "metadata": {},
   "outputs": [
    {
     "name": "stdout",
     "output_type": "stream",
     "text": [
      "Собственные числа:\t\t\t\t[-0.001 -1.   ]\n",
      "Степень жёсткости:\t\t\t\t1.000e+03\n",
      "Число обуcловленности:\t\t\t\t1.994e+03\n",
      "Число обуcловленности матрицы векторов:\t\t2.411e+00\n"
     ]
    }
   ],
   "source": [
    "matrix_report(A_4)"
   ]
  },
  {
   "cell_type": "code",
   "execution_count": null,
   "id": "stone-messaging",
   "metadata": {},
   "outputs": [],
   "source": []
  }
 ],
 "metadata": {
  "kernelspec": {
   "display_name": "Python 3",
   "language": "python",
   "name": "python3"
  },
  "language_info": {
   "codemirror_mode": {
    "name": "ipython",
    "version": 3
   },
   "file_extension": ".py",
   "mimetype": "text/x-python",
   "name": "python",
   "nbconvert_exporter": "python",
   "pygments_lexer": "ipython3",
   "version": "3.9.2"
  }
 },
 "nbformat": 4,
 "nbformat_minor": 5
}
